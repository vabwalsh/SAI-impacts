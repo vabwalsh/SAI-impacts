{
 "cells": [
  {
   "cell_type": "code",
   "execution_count": null,
   "metadata": {},
   "outputs": [],
   "source": [
    "import pandas as pd\n",
    "from bs4 import BeautifulSoup\n",
    "import requests\n",
    "import lxml\n",
    "import numpy as np"
   ]
  },
  {
   "cell_type": "code",
   "execution_count": null,
   "metadata": {},
   "outputs": [],
   "source": [
    "def arise_descript_html_to_csv(url):\n",
    "    page = requests.get(url)\n",
    "    soup = BeautifulSoup(page.content)\n",
    "    table = soup.select('table#allf')[0] \n",
    "    columns = table.find('thead').find_all('th') \n",
    "\n",
    "    # remove data which is only available for some of the 10 ensemble runs, in order to isolate variables for which a reference and SAI scenario exist\n",
    "    table_df = pd.read_html(str(table))[0].replace('runs 001-005 only', 'NA').replace('only runs 006-010', 'NA')\n",
    "    table_df = table_df[table_df['notes'] != 'NA']\n",
    "\n",
    "    table_df.to_csv('output_table.csv')\n",
    "\n",
    "    return(table_df)"
   ]
  },
  {
   "cell_type": "code",
   "execution_count": null,
   "metadata": {},
   "outputs": [],
   "source": [
    "URL = \"https://www2.cgd.ucar.edu/ccr/strandwg/WACCM6-TSMLT-SSP245/\"\n",
    "arise_descript_html_to_csv(URL)"
   ]
  }
 ],
 "metadata": {
  "interpreter": {
   "hash": "303c26352a1f46b4bddc0118487aa23d3f72af7cbae03784fcbf15e86603de71"
  },
  "kernelspec": {
   "display_name": "Python 3.9.4 ('SAIenv': venv)",
   "language": "python",
   "name": "python3"
  },
  "language_info": {
   "codemirror_mode": {
    "name": "ipython",
    "version": 3
   },
   "file_extension": ".py",
   "mimetype": "text/x-python",
   "name": "python",
   "nbconvert_exporter": "python",
   "pygments_lexer": "ipython3",
   "version": "3.9.4"
  },
  "orig_nbformat": 4
 },
 "nbformat": 4,
 "nbformat_minor": 2
}
