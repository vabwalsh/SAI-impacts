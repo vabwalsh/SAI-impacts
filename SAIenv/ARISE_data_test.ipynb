{
 "cells": [
  {
   "cell_type": "code",
   "execution_count": null,
   "metadata": {},
   "outputs": [],
   "source": [
    "# generic\n",
    "import pandas as pd\n",
    "import os, glob\n",
    "import numpy as np\n",
    "import scipy as sp\n",
    "\n",
    "# geospatial plotting\n",
    "import cartopy\n",
    "import cartopy.crs as ccrs \n",
    "import cartopy.feature as cfeature\n",
    "from cartopy import config\n",
    "\n",
    "# display\n",
    "from IPython.display import Image\n",
    "from cartopy.io.img_tiles import GoogleTiles\n",
    "\n",
    "# plotting\n",
    "import matplotlib.pyplot as plt\n",
    "import seaborn as sns\n",
    "\n",
    "# handling netCDFs\n",
    "import xclim as xc\n",
    "import xarray as xr\n",
    "from netCDF4 import Dataset as netcdf_dataset"
   ]
  },
  {
   "cell_type": "code",
   "execution_count": null,
   "metadata": {},
   "outputs": [],
   "source": [
    "# open a netCDFs downloaded from the curl script\n",
    "# read in all the netcdfs in a folder, and make a dict with the run number as the key and xarrays values\n",
    "\n",
    "def parse_data(fp_to_nc_folder):\n",
    "\n",
    "    # lists to hold the netcdfs and their run numbers \n",
    "    run_numbers = []\n",
    "    nc_names = []\n",
    "\n",
    "    # read all the files matching the input file path\n",
    "    for nc_file in glob.glob(fp_to_nc_folder):\n",
    "\n",
    "        # open them!\n",
    "        with open(os.path.join(os.getcwd(), nc_file), 'r') as f: \n",
    "\n",
    "            # extract the run number from the file name and add it to a list to ID each file\n",
    "            # this assumes all ARISE-SAI files have more or less the same filename and location of the run number within it, may need to be updated\n",
    "            run_numbers.append(pd.Series(nc_file).str.split(pat = 'DEFAULT.')[0][1].split('.cam')[0])\n",
    "\n",
    "            # open each nc file and add that to another list\n",
    "            nc_names.append(xr.open_dataset(nc_file))\n",
    "\n",
    "    # combine the lists into a dict ordered by keys (run numbers low to high)\n",
    "    data_dict = dict(sorted(dict(zip(run_numbers, nc_names)).items()))\n",
    "\n",
    "    return(data_dict)\n",
    "\n",
    "# use this function on the TMSO2 data\n",
    "TMSO2_dict = parse_data('./project-data/TMSO2/*.nc')"
   ]
  },
  {
   "cell_type": "code",
   "execution_count": null,
   "metadata": {},
   "outputs": [],
   "source": [
    "# check array dimensions\n",
    "TMSO2_dict['001'].variables['TMSO2'][0,:,:].shape, dataset.variables['lat'].shape, dataset.variables['lon'].shape"
   ]
  },
  {
   "cell_type": "code",
   "execution_count": null,
   "metadata": {},
   "outputs": [],
   "source": [
    "dataset = TMSO2_dict['001'].sel(time=slice(\"2035-01-01\", \"2036-01-02\"))\n",
    "\n",
    "tmso2 = dataset.variables['TMSO2'][0, :, :]\n",
    "lats = dataset.variables['lat'][:]\n",
    "lons = dataset.variables['lon'][:]"
   ]
  },
  {
   "cell_type": "code",
   "execution_count": null,
   "metadata": {},
   "outputs": [],
   "source": [
    "# make a function that plots the variable of interest around the globe using cartopy\n",
    "ax = plt.axes(projection=ccrs.PlateCarree())\n",
    "plt.contourf(lons, lats, tmso2, transform=ccrs.PlateCarree())\n",
    "# ax.coastlines()\n"
   ]
  },
  {
   "cell_type": "code",
   "execution_count": null,
   "metadata": {},
   "outputs": [],
   "source": [
    "# The first five members of ARISE-SAI-1.5 simulations were initialized in 2035 from the first five members (001 to 005) \n",
    "# of the SSP2-45 simulations carried out with CESM2(WACCM6); hence, all had different initial ocean, sea-ice, land, \n",
    "# and atmospheric initial conditions on January 1, 2035. Similarly to the SSP2-45 simulations, subsequent ensemble members \n",
    "# (006 through 010) were initialized from the same initial conditions as members 001 through 005, respectively, \n",
    "# with an addition of a small temperature perturbation to the atmospheric initial condition to create ensemble spread.\n",
    "# ([6, 7, 8, 9, 10] x 10ˆ-14 K, respectively)"
   ]
  }
 ],
 "metadata": {
  "interpreter": {
   "hash": "aee8b7b246df8f9039afb4144a1f6fd8d2ca17a180786b69acc140d282b71a49"
  },
  "kernelspec": {
   "display_name": "Python 3 (ipykernel)",
   "language": "python",
   "name": "python3"
  },
  "language_info": {
   "codemirror_mode": {
    "name": "ipython",
    "version": 3
   },
   "file_extension": ".py",
   "mimetype": "text/x-python",
   "name": "python",
   "nbconvert_exporter": "python",
   "pygments_lexer": "ipython3",
   "version": "3.9.4"
  }
 },
 "nbformat": 4,
 "nbformat_minor": 2
}
