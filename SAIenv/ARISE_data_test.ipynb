{
 "cells": [
  {
   "cell_type": "code",
   "execution_count": null,
   "metadata": {},
   "outputs": [],
   "source": [
    "# generic\n",
    "import pandas as pd\n",
    "import os, glob\n",
    "import numpy as np\n",
    "import scipy as sp\n",
    "\n",
    "# geospatial plotting\n",
    "import cartopy\n",
    "import cartopy.crs as ccrs \n",
    "import cartopy.feature as cfeature\n",
    "from cartopy import config\n",
    "import cartopy.mpl.ticker as cticker\n",
    "from cartopy.util import add_cyclic_point\n",
    "from cartopy.io.img_tiles import GoogleTiles\n",
    "\n",
    "# display\n",
    "from IPython.display import Image\n",
    "\n",
    "# plotting\n",
    "import matplotlib.pyplot as plt\n",
    "import seaborn as sns\n",
    "\n",
    "# handling netCDFs\n",
    "from netCDF4 import Dataset\n",
    "import xclim as xc\n",
    "import xarray as xr"
   ]
  },
  {
   "cell_type": "code",
   "execution_count": null,
   "metadata": {},
   "outputs": [],
   "source": [
    "# open a netCDFs downloaded from the curl script\n",
    "# read in all the netcdfs in a folder, and make a dict with the run number as the key and xarrays values\n",
    "\n",
    "def parse_data(fp_to_nc_folder):\n",
    "    \n",
    "#     if 'control' in fp_to_nc_folder:\n",
    "        \n",
    "#     elif 'sai' in fp_to_nc_folder:\n",
    "    \n",
    "    # lists to hold the netcdfs and their run numbers \n",
    "    run_numbers = []\n",
    "    nc_names = []\n",
    "\n",
    "    # read all the files matching the input file path\n",
    "    for nc_file in glob.glob(fp_to_nc_folder):\n",
    "\n",
    "        # open them!\n",
    "        with open(os.path.join(os.getcwd(), nc_file), 'r') as f: \n",
    "\n",
    "            # extract the run number from the file name and add it to a list to ID each file\n",
    "            # this assumes all ARISE-SAI files have more or less the same filename and location of the run number within it, may need to be updated\n",
    "            run_numbers.append(pd.Series(nc_file).str.split(pat = 'DEFAULT.')[0][1].split('.cam')[0])\n",
    "\n",
    "            # open each nc file and add that to another list\n",
    "            nc_names.append(xr.open_dataset(nc_file))\n",
    "\n",
    "    # combine the lists into a dict ordered by keys (run numbers low to high)\n",
    "    data_dict = dict(sorted(dict(zip(run_numbers, nc_names)).items()))\n",
    "\n",
    "    return(data_dict)"
   ]
  },
  {
   "cell_type": "markdown",
   "metadata": {},
   "source": [
    "### Test the parsing function and basic plotting abilities on the TMSO2 data"
   ]
  },
  {
   "cell_type": "code",
   "execution_count": null,
   "metadata": {},
   "outputs": [],
   "source": [
    "# use this function on the TMSO2 data\n",
    "TMSO2_dict = parse_data('./project-data/sai/TMSO2/*.nc')\n",
    "\n",
    "# check array dimensions \n",
    "#TMSO2_dict['001'].variables['TMSO2'][0,:,:].shape, dataset.variables['lat'].shape, dataset.variables['lon'].shape"
   ]
  },
  {
   "cell_type": "code",
   "execution_count": null,
   "metadata": {},
   "outputs": [],
   "source": [
    "# Note the syntax for isolating different variables and time filtering\n",
    "# dataset = TMSO2_dict['001']#.sel(time=slice(\"2035-01-01\", \"2036-01-02\"))\n",
    "# tmso2 = dataset.variables['TMSO2'][0, :, :]\n",
    "# lats = dataset.variables['lat'][:]\n",
    "# lons = dataset.variables['lon'][:]\n",
    "\n",
    "# mean across time of TMSO2 data\n",
    "ds = TMSO2_dict['001']\n",
    "ds_mean = ds.mean(dim = 'time')\n",
    "\n",
    "# Make the figure larger\n",
    "fig = plt.figure(figsize=(11,8.5))\n",
    "\n",
    "# Set the axes using the specified map projection\n",
    "ax=plt.axes(projection=ccrs.Robinson())\n",
    "\n",
    "# Add cyclic point to data\n",
    "data=ds_mean['TMSO2']\n",
    "data, lons = add_cyclic_point(data, coord=ds['lon'])\n",
    "\n",
    "\n",
    "# Make a filled contour plot\n",
    "cs=ax.contourf(lons, ds['lat'], data,\n",
    "               transform = ccrs.PlateCarree(),\n",
    "               cmap = 'tab20c',\n",
    "               extend = 'both')\n",
    "\n",
    "# Add coastlines\n",
    "ax.coastlines()\n",
    "\n",
    "# add gridlines\n",
    "ax.gridlines()\n",
    "\n",
    "# Add colorbar\n",
    "cbar = plt.colorbar(cs,shrink=0.7,orientation='horizontal',label='SO2 Column Burden (kg/m^2)')\n",
    "\n",
    "# Add title\n",
    "plt.title('Mean SO2 Column Burden - ARISE-SAI-1.5 Ensemble 1 2035-2070 - (kg m^-2)')"
   ]
  },
  {
   "cell_type": "markdown",
   "metadata": {},
   "source": [
    "# Rainfall tests"
   ]
  },
  {
   "cell_type": "code",
   "execution_count": null,
   "metadata": {},
   "outputs": [],
   "source": [
    "# use this function on the TMSO2 data\n",
    "# TMSO2_dict = parse_data('./project-data/sai/TMSO2/*.nc')\n",
    "\n",
    "# Need to fix parsing function for control data FPs and to specify whether to use control or sai folder\n",
    "# rain_control_dict = parse_data('./project-data/control/ANRAIN/*.nc')\n",
    "# rain_sai_dict = parse_data('./project-data/sai/ANRAIN/*.nc')\n",
    "\n",
    "# Manually select two of the files (first ensemble run) from the control and SAI model outputs\n",
    "control_rain001 = xr.open_dataset('./project-data/control/ANRAIN/b.e21.BWSSP245cmip6.f09_g17.CMIP6-SSP2-4.5-WACCM.001.cam.h0.ANRAIN.201501-206412.nc')\n",
    "sai_rain001 = xr.open_dataset('./project-data/sai/ANRAIN/b.e21.BW.f09_g17.SSP245-TSMLT-GAUSS-DEFAULT.001.cam.h0.ANRAIN.203501-206912.nc')"
   ]
  },
  {
   "cell_type": "code",
   "execution_count": null,
   "metadata": {},
   "outputs": [],
   "source": [
    "# make these comparable by giving them the same time windows\n",
    "sai_rain001_t1 = sai_rain001.sel(time=slice(\"2035-01-01\", \"2069-12-31\")).mean(dim = 'time')\n",
    "control_rain001_t1 = control_rain001.sel(time=slice(\"2035-01-01\", \"2069-12-31\")).mean(dim = 'time')"
   ]
  },
  {
   "cell_type": "code",
   "execution_count": null,
   "metadata": {},
   "outputs": [],
   "source": [
    "time_mean_t1001_diff = sai_rain001_t1 - control_rain001_t1"
   ]
  },
  {
   "cell_type": "code",
   "execution_count": null,
   "metadata": {},
   "outputs": [],
   "source": [
    "# # subtract the rainfall variables to get the difference\n",
    "# delta_anrain = sai_rain001_t1.ANRAIN - control_rain001_t1.ANRAIN\n",
    "\n",
    "# # add this back as a variable in the original netcdf to preseve plotting functionality \n",
    "# sai_rain001_t1['delta_ANRAIN'] = delta_anrain\n",
    "\n",
    "# # check array dimensions \n",
    "# sai_rain001_t1.variables['delta_ANRAIN'][0,:,:].shape, sai_rain001_t1.variables['lat'].shape, sai_rain001_t1.variables['lon'].shape"
   ]
  },
  {
   "cell_type": "code",
   "execution_count": null,
   "metadata": {},
   "outputs": [],
   "source": [
    "# mean across time of TMSO2 data\n",
    "ds_mean = time_mean_t1001_diff\n",
    "\n",
    "# Make the figure larger\n",
    "fig = plt.figure(figsize=(11,8.5))\n",
    "\n",
    "# Set the axes using the specified map projection\n",
    "ax=plt.axes(projection=ccrs.Robinson())\n",
    "\n",
    "# Add cyclic point to data\n",
    "data=ds_mean['ANRAIN']\n",
    "data, lons = add_cyclic_point(data, coord=ds['lon'])\n",
    "\n",
    "print(data.shape, lons.shape, ds['lat'].shape)\n",
    "\n",
    "# Make a filled contour plot\n",
    "cs=ax.contourf(lons, ds['lat'], data,\n",
    "               transform = ccrs.PlateCarree(),\n",
    "               cmap = 'tab20c',\n",
    "               extend = 'both')\n",
    "\n",
    "# Add coastlines\n",
    "ax.coastlines()\n",
    "\n",
    "# add gridlines\n",
    "ax.gridlines()\n",
    "\n",
    "# Add colorbar\n",
    "cbar = plt.colorbar(cs,shrink=0.7,orientation='horizontal',label='ANRAIN')\n",
    "\n",
    "# Add title\n",
    "plt.title('Change in mean ANRAIN between control and SAI-ARISE Ensemble 1 2035-2070')"
   ]
  },
  {
   "cell_type": "code",
   "execution_count": null,
   "metadata": {},
   "outputs": [],
   "source": [
    "# The first five members of ARISE-SAI-1.5 simulations were initialized in 2035 from the first five members (001 to 005) \n",
    "# of the SSP2-45 simulations carried out with CESM2(WACCM6); hence, all had different initial ocean, sea-ice, land, \n",
    "# and atmospheric initial conditions on January 1, 2035. Similarly to the SSP2-45 simulations, subsequent ensemble members \n",
    "# (006 through 010) were initialized from the same initial conditions as members 001 through 005, respectively, \n",
    "# with an addition of a small temperature perturbation to the atmospheric initial condition to create ensemble spread.\n",
    "# ([6, 7, 8, 9, 10] x 10ˆ-14 K, respectively)"
   ]
  }
 ],
 "metadata": {
  "interpreter": {
   "hash": "aee8b7b246df8f9039afb4144a1f6fd8d2ca17a180786b69acc140d282b71a49"
  },
  "kernelspec": {
   "display_name": "Python 3 (ipykernel)",
   "language": "python",
   "name": "python3"
  },
  "language_info": {
   "codemirror_mode": {
    "name": "ipython",
    "version": 3
   },
   "file_extension": ".py",
   "mimetype": "text/x-python",
   "name": "python",
   "nbconvert_exporter": "python",
   "pygments_lexer": "ipython3",
   "version": "3.9.4"
  }
 },
 "nbformat": 4,
 "nbformat_minor": 2
}
