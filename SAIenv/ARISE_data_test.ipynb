{
 "cells": [
  {
   "cell_type": "code",
   "execution_count": 5,
   "metadata": {},
   "outputs": [],
   "source": [
    "# generic\n",
    "import pandas as pd\n",
    "import os\n",
    "import numpy as np\n",
    "import scipy as sp\n",
    "\n",
    "# geospatial plotting\n",
    "import cartopy\n",
    "import cartopy.crs as ccrs \n",
    "import cartopy.feature as cfeature\n",
    "\n",
    "# display\n",
    "from IPython.display import Image\n",
    "from cartopy.io.img_tiles import GoogleTiles\n",
    "\n",
    "# plotting\n",
    "import matplotlib.pyplot as plt\n",
    "import seaborn as sns\n",
    "\n",
    "# handling netCDFs\n",
    "import xclim as xc\n",
    "import xarray as xr"
   ]
  },
  {
   "cell_type": "code",
   "execution_count": 7,
   "metadata": {},
   "outputs": [
    {
     "ename": "ValueError",
     "evalue": "did not find a match in any of xarray's currently installed IO backends ['scipy']. Consider explicitly selecting one of the installed engines via the ``engine`` parameter, or installing additional IO dependencies, see:\nhttps://docs.xarray.dev/en/stable/getting-started-guide/installing.html\nhttps://docs.xarray.dev/en/stable/user-guide/io.html",
     "output_type": "error",
     "traceback": [
      "\u001b[0;31m---------------------------------------------------------------------------\u001b[0m",
      "\u001b[0;31mValueError\u001b[0m                                Traceback (most recent call last)",
      "Cell \u001b[0;32mIn [7], line 2\u001b[0m\n\u001b[1;32m      1\u001b[0m \u001b[38;5;66;03m# open a netCDF downloaded from the curl script\u001b[39;00m\n\u001b[0;32m----> 2\u001b[0m \u001b[43mxr\u001b[49m\u001b[38;5;241;43m.\u001b[39;49m\u001b[43mload_dataset\u001b[49m\u001b[43m(\u001b[49m\u001b[38;5;124;43m'\u001b[39;49m\u001b[38;5;124;43mproject-data/TMSO2/b.e21.BW.f09_g17.SSP245-TSMLT-GAUSS-DEFAULT.001.cam.h0.TMSO2.203501-206912.nc\u001b[39;49m\u001b[38;5;124;43m'\u001b[39;49m\u001b[43m)\u001b[49m\n",
      "File \u001b[0;32m~/Desktop/uniB/SAI-impacts/SAIenv/lib/python3.9/site-packages/xarray/backends/api.py:278\u001b[0m, in \u001b[0;36mload_dataset\u001b[0;34m(filename_or_obj, **kwargs)\u001b[0m\n\u001b[1;32m    <a href='file:///Users/Violet/Desktop/uniB/SAI-impacts/SAIenv/lib/python3.9/site-packages/xarray/backends/api.py?line=274'>275</a>\u001b[0m \u001b[39mif\u001b[39;00m \u001b[39m\"\u001b[39m\u001b[39mcache\u001b[39m\u001b[39m\"\u001b[39m \u001b[39min\u001b[39;00m kwargs:\n\u001b[1;32m    <a href='file:///Users/Violet/Desktop/uniB/SAI-impacts/SAIenv/lib/python3.9/site-packages/xarray/backends/api.py?line=275'>276</a>\u001b[0m     \u001b[39mraise\u001b[39;00m \u001b[39mTypeError\u001b[39;00m(\u001b[39m\"\u001b[39m\u001b[39mcache has no effect in this context\u001b[39m\u001b[39m\"\u001b[39m)\n\u001b[0;32m--> <a href='file:///Users/Violet/Desktop/uniB/SAI-impacts/SAIenv/lib/python3.9/site-packages/xarray/backends/api.py?line=277'>278</a>\u001b[0m \u001b[39mwith\u001b[39;00m open_dataset(filename_or_obj, \u001b[39m*\u001b[39;49m\u001b[39m*\u001b[39;49mkwargs) \u001b[39mas\u001b[39;00m ds:\n\u001b[1;32m    <a href='file:///Users/Violet/Desktop/uniB/SAI-impacts/SAIenv/lib/python3.9/site-packages/xarray/backends/api.py?line=278'>279</a>\u001b[0m     \u001b[39mreturn\u001b[39;00m ds\u001b[39m.\u001b[39mload()\n",
      "File \u001b[0;32m~/Desktop/uniB/SAI-impacts/SAIenv/lib/python3.9/site-packages/xarray/backends/api.py:523\u001b[0m, in \u001b[0;36mopen_dataset\u001b[0;34m(filename_or_obj, engine, chunks, cache, decode_cf, mask_and_scale, decode_times, decode_timedelta, use_cftime, concat_characters, decode_coords, drop_variables, inline_array, backend_kwargs, **kwargs)\u001b[0m\n\u001b[1;32m    <a href='file:///Users/Violet/Desktop/uniB/SAI-impacts/SAIenv/lib/python3.9/site-packages/xarray/backends/api.py?line=519'>520</a>\u001b[0m     kwargs\u001b[39m.\u001b[39mupdate(backend_kwargs)\n\u001b[1;32m    <a href='file:///Users/Violet/Desktop/uniB/SAI-impacts/SAIenv/lib/python3.9/site-packages/xarray/backends/api.py?line=521'>522</a>\u001b[0m \u001b[39mif\u001b[39;00m engine \u001b[39mis\u001b[39;00m \u001b[39mNone\u001b[39;00m:\n\u001b[0;32m--> <a href='file:///Users/Violet/Desktop/uniB/SAI-impacts/SAIenv/lib/python3.9/site-packages/xarray/backends/api.py?line=522'>523</a>\u001b[0m     engine \u001b[39m=\u001b[39m plugins\u001b[39m.\u001b[39;49mguess_engine(filename_or_obj)\n\u001b[1;32m    <a href='file:///Users/Violet/Desktop/uniB/SAI-impacts/SAIenv/lib/python3.9/site-packages/xarray/backends/api.py?line=524'>525</a>\u001b[0m backend \u001b[39m=\u001b[39m plugins\u001b[39m.\u001b[39mget_backend(engine)\n\u001b[1;32m    <a href='file:///Users/Violet/Desktop/uniB/SAI-impacts/SAIenv/lib/python3.9/site-packages/xarray/backends/api.py?line=526'>527</a>\u001b[0m decoders \u001b[39m=\u001b[39m _resolve_decoders_kwargs(\n\u001b[1;32m    <a href='file:///Users/Violet/Desktop/uniB/SAI-impacts/SAIenv/lib/python3.9/site-packages/xarray/backends/api.py?line=527'>528</a>\u001b[0m     decode_cf,\n\u001b[1;32m    <a href='file:///Users/Violet/Desktop/uniB/SAI-impacts/SAIenv/lib/python3.9/site-packages/xarray/backends/api.py?line=528'>529</a>\u001b[0m     open_backend_dataset_parameters\u001b[39m=\u001b[39mbackend\u001b[39m.\u001b[39mopen_dataset_parameters,\n\u001b[0;32m   (...)\u001b[0m\n\u001b[1;32m    <a href='file:///Users/Violet/Desktop/uniB/SAI-impacts/SAIenv/lib/python3.9/site-packages/xarray/backends/api.py?line=534'>535</a>\u001b[0m     decode_coords\u001b[39m=\u001b[39mdecode_coords,\n\u001b[1;32m    <a href='file:///Users/Violet/Desktop/uniB/SAI-impacts/SAIenv/lib/python3.9/site-packages/xarray/backends/api.py?line=535'>536</a>\u001b[0m )\n",
      "File \u001b[0;32m~/Desktop/uniB/SAI-impacts/SAIenv/lib/python3.9/site-packages/xarray/backends/plugins.py:164\u001b[0m, in \u001b[0;36mguess_engine\u001b[0;34m(store_spec)\u001b[0m\n\u001b[1;32m    <a href='file:///Users/Violet/Desktop/uniB/SAI-impacts/SAIenv/lib/python3.9/site-packages/xarray/backends/plugins.py?line=155'>156</a>\u001b[0m \u001b[39melse\u001b[39;00m:\n\u001b[1;32m    <a href='file:///Users/Violet/Desktop/uniB/SAI-impacts/SAIenv/lib/python3.9/site-packages/xarray/backends/plugins.py?line=156'>157</a>\u001b[0m     error_msg \u001b[39m=\u001b[39m (\n\u001b[1;32m    <a href='file:///Users/Violet/Desktop/uniB/SAI-impacts/SAIenv/lib/python3.9/site-packages/xarray/backends/plugins.py?line=157'>158</a>\u001b[0m         \u001b[39m\"\u001b[39m\u001b[39mfound the following matches with the input file in xarray\u001b[39m\u001b[39m'\u001b[39m\u001b[39ms IO \u001b[39m\u001b[39m\"\u001b[39m\n\u001b[1;32m    <a href='file:///Users/Violet/Desktop/uniB/SAI-impacts/SAIenv/lib/python3.9/site-packages/xarray/backends/plugins.py?line=158'>159</a>\u001b[0m         \u001b[39mf\u001b[39m\u001b[39m\"\u001b[39m\u001b[39mbackends: \u001b[39m\u001b[39m{\u001b[39;00mcompatible_engines\u001b[39m}\u001b[39;00m\u001b[39m. But their dependencies may not be installed, see:\u001b[39m\u001b[39m\\n\u001b[39;00m\u001b[39m\"\u001b[39m\n\u001b[1;32m    <a href='file:///Users/Violet/Desktop/uniB/SAI-impacts/SAIenv/lib/python3.9/site-packages/xarray/backends/plugins.py?line=159'>160</a>\u001b[0m         \u001b[39m\"\u001b[39m\u001b[39mhttps://docs.xarray.dev/en/stable/user-guide/io.html \u001b[39m\u001b[39m\\n\u001b[39;00m\u001b[39m\"\u001b[39m\n\u001b[1;32m    <a href='file:///Users/Violet/Desktop/uniB/SAI-impacts/SAIenv/lib/python3.9/site-packages/xarray/backends/plugins.py?line=160'>161</a>\u001b[0m         \u001b[39m\"\u001b[39m\u001b[39mhttps://docs.xarray.dev/en/stable/getting-started-guide/installing.html\u001b[39m\u001b[39m\"\u001b[39m\n\u001b[1;32m    <a href='file:///Users/Violet/Desktop/uniB/SAI-impacts/SAIenv/lib/python3.9/site-packages/xarray/backends/plugins.py?line=161'>162</a>\u001b[0m     )\n\u001b[0;32m--> <a href='file:///Users/Violet/Desktop/uniB/SAI-impacts/SAIenv/lib/python3.9/site-packages/xarray/backends/plugins.py?line=163'>164</a>\u001b[0m \u001b[39mraise\u001b[39;00m \u001b[39mValueError\u001b[39;00m(error_msg)\n",
      "\u001b[0;31mValueError\u001b[0m: did not find a match in any of xarray's currently installed IO backends ['scipy']. Consider explicitly selecting one of the installed engines via the ``engine`` parameter, or installing additional IO dependencies, see:\nhttps://docs.xarray.dev/en/stable/getting-started-guide/installing.html\nhttps://docs.xarray.dev/en/stable/user-guide/io.html"
     ]
    }
   ],
   "source": [
    "# open a netCDF downloaded from the curl script\n",
    "xr.load_dataset('project-data/TMSO2/b.e21.BW.f09_g17.SSP245-TSMLT-GAUSS-DEFAULT.001.cam.h0.TMSO2.203501-206912.nc')"
   ]
  },
  {
   "cell_type": "code",
   "execution_count": 1,
   "metadata": {},
   "outputs": [],
   "source": [
    "# parse the correct netCDF for so4_a1DDF\n",
    "# try to get a time seires for deposition\n",
    "# compare this to some other sulfur fluxes\n",
    "# see if this is high, low, etc."
   ]
  },
  {
   "cell_type": "code",
   "execution_count": null,
   "metadata": {},
   "outputs": [],
   "source": [
    "# xr.load_dataset(!!)"
   ]
  }
 ],
 "metadata": {
  "interpreter": {
   "hash": "aee8b7b246df8f9039afb4144a1f6fd8d2ca17a180786b69acc140d282b71a49"
  },
  "kernelspec": {
   "display_name": "Python 3.9.4 64-bit",
   "language": "python",
   "name": "python3"
  },
  "language_info": {
   "codemirror_mode": {
    "name": "ipython",
    "version": 3
   },
   "file_extension": ".py",
   "mimetype": "text/x-python",
   "name": "python",
   "nbconvert_exporter": "python",
   "pygments_lexer": "ipython3",
   "version": "3.9.4"
  },
  "orig_nbformat": 4
 },
 "nbformat": 4,
 "nbformat_minor": 2
}
