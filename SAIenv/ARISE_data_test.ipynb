{
 "cells": [
  {
   "cell_type": "code",
   "execution_count": 2,
   "metadata": {},
   "outputs": [
    {
     "name": "stderr",
     "output_type": "stream",
     "text": [
      "/Users/Violet/Desktop/uniB/SAI-impacts/SAIenv/lib/python3.9/site-packages/xarray/backends/cfgrib_.py:29: UserWarning: Failed to load cfgrib - most likely there is a problem accessing the ecCodes library. Try `import cfgrib` to get the full error message\n",
      "  warnings.warn(\n"
     ]
    }
   ],
   "source": [
    "# generic\n",
    "import pandas as pd\n",
    "import os, glob\n",
    "import numpy as np\n",
    "import scipy as sp\n",
    "\n",
    "# geospatial plotting\n",
    "import cartopy\n",
    "import cartopy.crs as ccrs \n",
    "import cartopy.feature as cfeature\n",
    "\n",
    "# display\n",
    "from IPython.display import Image\n",
    "from cartopy.io.img_tiles import GoogleTiles\n",
    "\n",
    "# plotting\n",
    "import matplotlib.pyplot as plt\n",
    "import seaborn as sns\n",
    "\n",
    "# handling netCDFs\n",
    "import xclim as xc\n",
    "import xarray as xr"
   ]
  },
  {
   "cell_type": "code",
   "execution_count": 20,
   "metadata": {},
   "outputs": [
    {
     "name": "stdout",
     "output_type": "stream",
     "text": [
      "0    [./project-data/TMSO2/b.e21.BW.f09_g17.SSP245-...\n",
      "dtype: object\n",
      "0    [./project-data/TMSO2/b.e21.BW.f09_g17.SSP245-...\n",
      "dtype: object\n",
      "0    [./project-data/TMSO2/b.e21.BW.f09_g17.SSP245-...\n",
      "dtype: object\n",
      "0    [./project-data/TMSO2/b.e21.BW.f09_g17.SSP245-...\n",
      "dtype: object\n",
      "0    [./project-data/TMSO2/b.e21.BW.f09_g17.SSP245-...\n",
      "dtype: object\n",
      "0    [./project-data/TMSO2/b.e21.BW.f09_g17.SSP245-...\n",
      "dtype: object\n",
      "0    [./project-data/TMSO2/b.e21.BW.f09_g17.SSP245-...\n",
      "dtype: object\n",
      "0    [./project-data/TMSO2/b.e21.BW.f09_g17.SSP245-...\n",
      "dtype: object\n",
      "0    [./project-data/TMSO2/b.e21.BW.f09_g17.SSP245-...\n",
      "dtype: object\n",
      "0    [./project-data/TMSO2/b.e21.BW.f09_g17.SSP245-...\n",
      "dtype: object\n"
     ]
    }
   ],
   "source": [
    "nc_file_names = []\n",
    "\n",
    "for nc_file in glob.glob('./project-data/TMSO2/*.nc'):\n",
    "   with open(os.path.join(os.getcwd(), nc_file), 'r') as f: \n",
    "       print(pd.Series(nc_file).str.split('DEFAULT.'))\n"
   ]
  },
  {
   "cell_type": "code",
   "execution_count": 4,
   "metadata": {
    "scrolled": false
   },
   "outputs": [],
   "source": [
    "# open a netCDF downloaded from the curl script\n",
    "# xr.open_dataarray('./project-data/TMSO2/b.e21.BW.f09_g17.SSP245-TSMLT-GAUSS-DEFAULT.001.cam.h0.TMSO2.203501-206912.nc')\n",
    "# xr.open_dataset('./project-data/TMSO2/b.e21.BW.f09_g17.SSP245-TSMLT-GAUSS-DEFAULT.001.cam.h0.TMSO2.203501-206912.nc')\n",
    "data = ('./project-data/TMSO2/b.e21.BW.f09_g17.SSP245-TSMLT-GAUSS-DEFAULT.001.cam.h0.TMSO2.203501-206912.nc')"
   ]
  },
  {
   "cell_type": "code",
   "execution_count": null,
   "metadata": {},
   "outputs": [],
   "source": [
    "# parse the correct ne python -m pip install \"xarray[io]\"tCDF for so4_a1DDF\n",
    "# try to get a time seires for deposition\n",
    "# compare this to some other sulfur fluxes\n",
    "# see if this is high, low, etc."
   ]
  },
  {
   "cell_type": "code",
   "execution_count": null,
   "metadata": {},
   "outputs": [],
   "source": []
  },
  {
   "cell_type": "code",
   "execution_count": null,
   "metadata": {},
   "outputs": [],
   "source": [
    "# xr.load_dataset(!!)"
   ]
  },
  {
   "cell_type": "code",
   "execution_count": null,
   "metadata": {},
   "outputs": [],
   "source": [
    "import netCDF4\n",
    "path = './project-data/TMSO2/normal_name.nc'\n",
    "nc = netCDF4.Dataset(path)\n"
   ]
  },
  {
   "cell_type": "code",
   "execution_count": null,
   "metadata": {},
   "outputs": [],
   "source": []
  }
 ],
 "metadata": {
  "interpreter": {
   "hash": "aee8b7b246df8f9039afb4144a1f6fd8d2ca17a180786b69acc140d282b71a49"
  },
  "kernelspec": {
   "display_name": "Python 3 (ipykernel)",
   "language": "python",
   "name": "python3"
  },
  "language_info": {
   "codemirror_mode": {
    "name": "ipython",
    "version": 3
   },
   "file_extension": ".py",
   "mimetype": "text/x-python",
   "name": "python",
   "nbconvert_exporter": "python",
   "pygments_lexer": "ipython3",
   "version": "3.9.4"
  }
 },
 "nbformat": 4,
 "nbformat_minor": 2
}
