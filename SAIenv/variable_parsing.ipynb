{
 "cells": [
  {
   "cell_type": "code",
   "execution_count": 51,
   "metadata": {},
   "outputs": [],
   "source": [
    "import pandas as pd\n",
    "import numpy as np"
   ]
  },
  {
   "cell_type": "code",
   "execution_count": 63,
   "metadata": {},
   "outputs": [],
   "source": [
    "# parse scraped data\n",
    "variables = pd.read_csv('project-data/output_table.csv').iloc[:,1:]"
   ]
  },
  {
   "cell_type": "code",
   "execution_count": 71,
   "metadata": {},
   "outputs": [],
   "source": [
    "def keyword_var_filter(filter):\n",
    "    \n",
    "    # make the list of keywords for element or depo (or other thing by which to filter data)\n",
    "    sulfur_keywords = ['sul', 'SUL', 'Sul', 'SO2', 'SO4', 'so4', 'so2', 'sulfur', 'su;fate']\n",
    "    \n",
    "    # make a condition for relevant elements or depo types while I want to filter for \n",
    "    if filter == 'sulfur':\n",
    "        kws = sulfur_keywords\n",
    "        \n",
    "    kw_descripts = []\n",
    "    for var in kws:\n",
    "        for name in variables['long name']:\n",
    "            if var in name:\n",
    "                kw_descripts.append(name)\n",
    "\n",
    "    kw_row_indices = np.where(variables['long name'].isin(kw_descripts))\n",
    "\n",
    "    kw_variables = variables.iloc[kw_row_indices[0],:]\n",
    "\n",
    "    return(kw_variables)\n",
    "\n",
    "s_var_df = keyword_var_filter('sulfur')"
   ]
  },
  {
   "cell_type": "code",
   "execution_count": 75,
   "metadata": {},
   "outputs": [
    {
     "data": {
      "text/html": [
       "<div>\n",
       "<style scoped>\n",
       "    .dataframe tbody tr th:only-of-type {\n",
       "        vertical-align: middle;\n",
       "    }\n",
       "\n",
       "    .dataframe tbody tr th {\n",
       "        vertical-align: top;\n",
       "    }\n",
       "\n",
       "    .dataframe thead th {\n",
       "        text-align: right;\n",
       "    }\n",
       "</style>\n",
       "<table border=\"1\" class=\"dataframe\">\n",
       "  <thead>\n",
       "    <tr style=\"text-align: right;\">\n",
       "      <th></th>\n",
       "      <th>component</th>\n",
       "      <th>stream</th>\n",
       "      <th>time frequency</th>\n",
       "      <th>field name</th>\n",
       "      <th>long name</th>\n",
       "      <th>units</th>\n",
       "      <th>cell_methods</th>\n",
       "      <th>dimensions</th>\n",
       "      <th>notes</th>\n",
       "    </tr>\n",
       "  </thead>\n",
       "  <tbody>\n",
       "    <tr>\n",
       "      <th>684</th>\n",
       "      <td>atm</td>\n",
       "      <td>cam.h0</td>\n",
       "      <td>month_1</td>\n",
       "      <td>so4_a1DDF</td>\n",
       "      <td>so4_a1 dry deposition flux at bottom (grav + t...</td>\n",
       "      <td>kg/m2/s</td>\n",
       "      <td>time: mean</td>\n",
       "      <td>lat lon</td>\n",
       "      <td>NaN</td>\n",
       "    </tr>\n",
       "  </tbody>\n",
       "</table>\n",
       "</div>"
      ],
      "text/plain": [
       "    component  stream time frequency field name  \\\n",
       "684       atm  cam.h0        month_1  so4_a1DDF   \n",
       "\n",
       "                                             long name    units cell_methods  \\\n",
       "684  so4_a1 dry deposition flux at bottom (grav + t...  kg/m2/s   time: mean   \n",
       "\n",
       "    dimensions notes  \n",
       "684    lat lon   NaN  "
      ]
     },
     "execution_count": 75,
     "metadata": {},
     "output_type": "execute_result"
    }
   ],
   "source": [
    "s_var_df[s_var_df['field name'] == 'so4_a1DDF']"
   ]
  },
  {
   "cell_type": "code",
   "execution_count": null,
   "metadata": {},
   "outputs": [],
   "source": []
  }
 ],
 "metadata": {
  "interpreter": {
   "hash": "303c26352a1f46b4bddc0118487aa23d3f72af7cbae03784fcbf15e86603de71"
  },
  "kernelspec": {
   "display_name": "Python 3.9.4 ('SAIenv': venv)",
   "language": "python",
   "name": "python3"
  },
  "language_info": {
   "codemirror_mode": {
    "name": "ipython",
    "version": 3
   },
   "file_extension": ".py",
   "mimetype": "text/x-python",
   "name": "python",
   "nbconvert_exporter": "python",
   "pygments_lexer": "ipython3",
   "version": "3.9.4"
  },
  "orig_nbformat": 4
 },
 "nbformat": 4,
 "nbformat_minor": 2
}
